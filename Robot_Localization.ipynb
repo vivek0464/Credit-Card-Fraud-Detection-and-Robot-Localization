{
  "nbformat": 4,
  "nbformat_minor": 0,
  "metadata": {
    "colab": {
      "name": "Robot Localization.ipynb",
      "provenance": [],
      "collapsed_sections": [],
      "include_colab_link": true
    },
    "kernelspec": {
      "name": "python3",
      "display_name": "Python 3"
    }
  },
  "cells": [
    {
      "cell_type": "markdown",
      "metadata": {
        "id": "view-in-github",
        "colab_type": "text"
      },
      "source": [
        "<a href=\"https://colab.research.google.com/github/vivek0464/Credit-Card-Fraud-Detection-and-Robot-Localization/blob/main/Robot_Localization.ipynb\" target=\"_parent\"><img src=\"https://colab.research.google.com/assets/colab-badge.svg\" alt=\"Open In Colab\"/></a>"
      ]
    },
    {
      "cell_type": "code",
      "metadata": {
        "id": "MR-ofchpi1w1"
      },
      "source": [
        "import math\n",
        "import numpy as np\n",
        "import matplotlib.pyplot as plt\n",
        "import random\n",
        "import enum"
      ],
      "execution_count": null,
      "outputs": []
    },
    {
      "cell_type": "code",
      "metadata": {
        "id": "lYfY3hBCFYqb"
      },
      "source": [
        "def Normalize(column):\n",
        "    total = 0\n",
        "    for i in range(column.shape[0]):\n",
        "        total = total+column[i][0]\n",
        "    for i in range(column.shape[0]):\n",
        "        column[i][0] = column[i][0]/total\n",
        "\n",
        "def XorDistance(D1, D2):\n",
        "    (i1, i2, i3, i4) = D1\n",
        "    (j1, j2, j3, j4) = D2\n",
        "    dist = abs(i1-j1)+abs(i2-j2)+abs(i3-j3)+abs(i4-j4)\n",
        "    return dist\n",
        "\n",
        "def ManhattanDistance(D1, D2):\n",
        "    (i1, j1) = D1\n",
        "    (i2, j2) = D2\n",
        "    dist = abs(i1-i2)+abs(j1-j2)\n",
        "    return dist\n",
        "\n",
        "def grid_visualize(C):\n",
        "    temp = [[0 for i in range(16)] for j in range(4)]\n",
        "    for i in range(C.shape[0]):\n",
        "        (y, x) = pos[i]\n",
        "        temp[y][x] = C[i][0]\n",
        "    temp = np.array(temp)\n",
        "    print(temp) \n",
        "\n",
        "def InitializeGrid():\n",
        "    grid = [[0 for i in range(16)] for j in range(4)]\n",
        "    grid[0][4] = grid[0][10] = grid[0][14] = 1\n",
        "    grid[1][0] = grid[1][1] = grid[1][4] = grid[1][6] = grid[1][7] = grid[1][9] = grid[1][11] = grid[1][13] = grid[1][14] = grid[1][15] = 1\n",
        "    grid[2][0] = grid[2][4] = grid[2][6] = grid[2][7] = grid[2][13] = grid[2][14] = 1\n",
        "    grid[3][2] = grid[3][6] = grid[3][11] = 1\n",
        "    return grid\n",
        "\n",
        "def ShowGrid():\n",
        "    mat = [[j for j in i] for i in grid]\n",
        "    for i in range(4):\n",
        "        for j in range(16):\n",
        "            if grid[i][j] == 0:\n",
        "                mat[i][j] = id[(i, j)]\n",
        "            else:\n",
        "                mat[i][j] = -1\n",
        "    print(np.array(mat))\n",
        "\n",
        "def generate_path(l):\n",
        "    current = random.randint(0, 41)\n",
        "    path = list()\n",
        "    for i in range(l):\n",
        "        path.append(current)\n",
        "        if neighbours_count[current] == 0:\n",
        "            continue\n",
        "        r = random.randint(1, neighbours_count[current])\n",
        "        for j in range(4):\n",
        "            if neighbours[current][j] == 0:\n",
        "                r = r-1\n",
        "                if r == 0:\n",
        "                    (y, x) = location[current]\n",
        "                    if j == 0:\n",
        "                        current = index_map[(y-1, x)]\n",
        "                    elif j == 1:\n",
        "                        current = index_map[(y+1, x)]\n",
        "                    elif j == 2:\n",
        "                        current = index_map[(y, x-1)]\n",
        "                    else:\n",
        "                        current = index_map[(y, x+1)]\n",
        "                    break\n",
        "    return path\n",
        "\n",
        "def generate_evidence(path, e):\n",
        "    evidence = list()\n",
        "    for i in range(len(path)):\n",
        "        a, b, c, d = neighbours[path[i]]\n",
        "        p = random.uniform(0, 1)\n",
        "        if p < e:\n",
        "            a = 1-a\n",
        "        p = random.uniform(0, 1)\n",
        "        if p < e:\n",
        "            b = 1-b\n",
        "        p = random.uniform(0, 1)\n",
        "        if p < e:\n",
        "            c = 1-c\n",
        "        p = random.uniform(0, 1)\n",
        "        if p < e:\n",
        "            d = 1-d\n",
        "        evidence.append((a, b, c, d))\n",
        "    return evidence\n",
        "\n",
        "\n",
        "\n",
        "def Initialize(err):\n",
        "    temp_O = [[[0 for i in range(S)] for j in range(S)] for k in range(16)]\n",
        "    for i in range(16):\n",
        "        for j in range(S):\n",
        "            d = XorDistance(neighbours_type[i], neighbours[j])\n",
        "            temp_O[i][j][j] = ((1-err)**(4-d))*(err**d)\n",
        "    temp_O = np.array(temp_O)\n",
        "    return temp_O"
      ],
      "execution_count": null,
      "outputs": []
    },
    {
      "cell_type": "code",
      "metadata": {
        "id": "MFwpS67mj1I-"
      },
      "source": [
        "grid = InitializeGrid()\n",
        "location = {}\n",
        "index_map = {}\n",
        "neighbours_type = {}\n",
        "neighbours = {}\n",
        "S = 0\n",
        "\n",
        "for i in range(4):\n",
        "    for j in range(16):\n",
        "        if grid[i][j] == 0:\n",
        "            location[S] = (i, j)\n",
        "            index_map[(i, j)] = S\n",
        "            S = S+1\n",
        "\n",
        "neighbours_count = [0 for i in range(S)]\n",
        "TransitionMatrix = [[0 for i in range(S)] for j in range(S)]\n",
        "\n",
        "for i in range(2):\n",
        "    for j in range(2):\n",
        "        for k in range(2):\n",
        "            for l in range(2):\n",
        "                neighbours_type[8*i+4*j+2*k+l] = (i, j, k, l)\n",
        "                index_map[(i, j, k, l)] = 8*i+4*j+2*k+l\n",
        "\n",
        "for i in range(S):\n",
        "    N_ = 1\n",
        "    S_ = 1\n",
        "    E_ = 1\n",
        "    W_ = 1\n",
        "    (y, x) = location[i]\n",
        "    if (y-1, x) in index_map.keys():\n",
        "        N_ = 0\n",
        "    if (y+1, x) in index_map.keys():\n",
        "        S_ = 0\n",
        "    if (y, x-1) in index_map.keys():\n",
        "        E_ = 0\n",
        "    if (y, x+1) in index_map.keys():\n",
        "        W_ = 0\n",
        "    neighbours[i] = (N_, S_, E_, W_)\n",
        "    neighbours_count[i] = XorDistance(neighbours[i], (1, 1, 1, 1))\n",
        "    if neighbours_count[i] == 0:\n",
        "        TransitionMatrix[i][i] = 1\n",
        "        continue\n",
        "    for j in range(S):\n",
        "        if ManhattanDistance(location[i], location[j]) == 1:\n",
        "            TransitionMatrix[i][j] = 1 / neighbours_count[i]\n",
        "TransitionMatrix = np.array(TransitionMatrix)"
      ],
      "execution_count": null,
      "outputs": []
    },
    {
      "cell_type": "code",
      "metadata": {
        "id": "qKkfbGJJ0pBF"
      },
      "source": [
        "def MostLikelyLocation(evidence, err = 0.1):\n",
        "    # Assign starting values\n",
        "    f0 = [1/S for i in range(S)]\n",
        "    f0 = np.array(f0)[np.newaxis]\n",
        "    # print(S)\n",
        "    f0 = f0.T\n",
        "    f = f0\n",
        "    # print(f)\n",
        "    O = Initialize(err)\n",
        "    for i in range(len(evidence)):\n",
        "        # As per recursive definition\n",
        "        f = O[index_map[evidence[i]]].dot((TransitionMatrix.T).dot(f))\n",
        "        # Normalize the probabilities \n",
        "        Normalize(f)\n",
        "    # print(f)\n",
        "    # Choose state with maximum probability\n",
        "    maximum_probability_state = 0\n",
        "    for i in range(1, S):\n",
        "        if f[i][0] > f[maximum_probability_state][0]:\n",
        "            maximum_probability_state = i\n",
        "    return maximum_probability_state\n",
        "\n",
        "# Using the Viterbi Algorithm\n",
        "def MostLikelyPath(evidence, err = 0.1):    \n",
        "    m0 = [[0 for i in range(S)] for j in range(S)]\n",
        "    for i in range(S):\n",
        "        m0[i][i] = 1/S\n",
        "    path = [[] for i in range(S)]\n",
        "    m0 = np.array(m0)\n",
        "    m = m0\n",
        "    O = Initialize(err)\n",
        "    for i in range(len(evidence)):\n",
        "        m = O[index_map[evidence[i]]].dot((TransitionMatrix.T).dot(m))\n",
        "        temp = list()\n",
        "        for j in range(S):\n",
        "            mx = 0\n",
        "            for k in range(1, S):\n",
        "                if m[j][k] > m[j][mx]:\n",
        "                    mx = k\n",
        "            l = [t for t in path[mx]]\n",
        "            l.append(j)\n",
        "            temp.append(l)\n",
        "            m[j][j] = m[j][mx]\n",
        "            for k in range(S):\n",
        "                if k != j:\n",
        "                    m[j][k] = 0\n",
        "        path = [[j for j in l] for l in temp]\n",
        "        sum = 0\n",
        "        for j in range(S):\n",
        "            sum = sum+m[j][j]\n",
        "        for j in range(S):\n",
        "            m[j][j] = m[j][j]/sum\n",
        "    mx = 0\n",
        "    for i in range(1, S):\n",
        "        if m[i][i] > m[mx][mx]:\n",
        "            mx = i\n",
        "    return path[mx]"
      ],
      "execution_count": null,
      "outputs": []
    },
    {
      "cell_type": "code",
      "metadata": {
        "colab": {
          "base_uri": "https://localhost:8080/"
        },
        "id": "TwOIqIqBH34O",
        "outputId": "776c1853-7418-42c5-e0b4-15cddf4471c6"
      },
      "source": [
        "evidence = [(1,1,1,0), (1,1,0,0), (1,0,0,0), (1,0,0,1), (0,0,0,1), (0,0,0,1)]\n",
        "print(MostLikelyLocation(evidence))\n",
        "MostLikelyPath(evidence)"
      ],
      "execution_count": null,
      "outputs": [
        {
          "output_type": "stream",
          "text": [
            "21\n"
          ],
          "name": "stdout"
        },
        {
          "output_type": "execute_result",
          "data": {
            "text/plain": [
              "[0, 1, 2, 3, 14, 21]"
            ]
          },
          "metadata": {
            "tags": []
          },
          "execution_count": 39
        }
      ]
    },
    {
      "cell_type": "code",
      "metadata": {
        "id": "Dv7e3Y70miQq"
      },
      "source": [
        "E = [0.0, 0.02, 0.05, 0.1, 0.2]\n",
        "\n",
        "localization_error = list()\n",
        "for k in range(5):\n",
        "    temp = list()\n",
        "    O = Initialize(E[k])\n",
        "    for i in range(4):\n",
        "        sum = 0\n",
        "        for j in range(40):\n",
        "            path = generate_path(i+1)\n",
        "            evidence = generate_evidence(path, E[k])\n",
        "            result = MostLikelyLocation(evidence, E[k])\n",
        "            sum = sum + ManhattanDistance(location[result], location[path[i]])\n",
        "        sum = sum/40\n",
        "        temp.append(sum)\n",
        "    localization_error.append(temp)\n",
        "\n",
        "path_accuracy = list()\n",
        "for k in range(5):\n",
        "    temp = list()\n",
        "    O = Initialize(E[k])\n",
        "    for i in range(4):\n",
        "        sum = 0\n",
        "        for j in range(40):\n",
        "            path = generate_path(i+1)\n",
        "            evidence = generate_evidence(path, E[k])\n",
        "            result = MostLikelyPath(evidence, err = E[k])\n",
        "            for l in range(i+1):\n",
        "                if path[l] == result[l]:\n",
        "                    sum = sum+1\n",
        "        sum = sum/((i+1)*40)\n",
        "        temp.append(sum)\n",
        "    path_accuracy.append(temp)"
      ],
      "execution_count": null,
      "outputs": []
    },
    {
      "cell_type": "code",
      "metadata": {
        "colab": {
          "base_uri": "https://localhost:8080/"
        },
        "id": "HVTNi7RXMJjc",
        "outputId": "01c8f8d7-be12-434f-e9c1-b0b91ba91f08"
      },
      "source": [
        "print(localization_error)\n",
        "print(path_accuracy)"
      ],
      "execution_count": null,
      "outputs": [
        {
          "output_type": "stream",
          "text": [
            "[[5.175, 1.225, 1.6, 0.45], [4.5, 1.975, 1.425, 0.4], [5.05, 2.375, 2.925, 1.275], [6.05, 3.1, 2.55, 1.075], [6.375, 5.15, 4.6, 4.1]]\n",
            "[[0.4, 0.8, 0.925, 0.9], [0.325, 0.75, 0.7833333333333333, 0.80625], [0.275, 0.525, 0.7833333333333333, 0.94375], [0.225, 0.4625, 0.65, 0.65], [0.1, 0.225, 0.375, 0.3]]\n"
          ],
          "name": "stdout"
        }
      ]
    },
    {
      "cell_type": "code",
      "metadata": {
        "colab": {
          "base_uri": "https://localhost:8080/",
          "height": 279
        },
        "id": "eXj1OftqMbyb",
        "outputId": "e3b481fa-f57d-454d-e25c-72d450627d7b"
      },
      "source": [
        "import matplotlib.pyplot as plt\n",
        "\n",
        "E = [0.0, 0.02, 0.05, 0.1, 0.2]\n",
        "legend_plot = list()\n",
        "for i in range(5):\n",
        "    plot_label, = plt.plot([j+1 for j in range(4)], localization_error[i], label = \"err: \"+str(E[i]))\n",
        "    legend_plot.append(plot_label)\n",
        "plt.legend(handles = legend_plot)\n",
        "plt.grid(axis='y', linestyle='--')\n",
        "plt.ylabel(\"Localization error\")\n",
        "plt.xlabel(\"Number of observations\")\n",
        "plt.show()"
      ],
      "execution_count": null,
      "outputs": [
        {
          "output_type": "display_data",
          "data": {
            "image/png": "[encoded data removed]",
            "text/plain": [
              "<Figure size 432x288 with 1 Axes>"
            ]
          },
          "metadata": {
            "tags": [],
            "needs_background": "light"
          }
        }
      ]
    },
    {
      "cell_type": "code",
      "metadata": {
        "colab": {
          "base_uri": "https://localhost:8080/",
          "height": 279
        },
        "id": "FTy7JovxMrEN",
        "outputId": "3997378a-1b0d-421f-da41-d8c357ecfd26"
      },
      "source": [
        "import matplotlib.pyplot as plt\n",
        "\n",
        "E = [0.0, 0.02, 0.05, 0.1, 0.2]\n",
        "legend_plot = list()\n",
        "for i in range(5):\n",
        "    plot_label, = plt.plot([j+1 for j in range(4)], path_accuracy[i], label = \"err : \"+str(E[i]))\n",
        "    legend_plot.append(plot_label)\n",
        "plt.legend(handles = legend_plot)\n",
        "plt.grid(axis='y', linestyle='--')\n",
        "plt.ylabel(\"Path accuracy\")\n",
        "plt.xlabel(\"Number of observations\")\n",
        "plt.show()"
      ],
      "execution_count": null,
      "outputs": [
        {
          "output_type": "display_data",
          "data": {
            "image/png": "[encoded data removed]",
            "text/plain": [
              "<Figure size 432x288 with 1 Axes>"
            ]
          },
          "metadata": {
            "tags": [],
            "needs_background": "light"
          }
        }
      ]
    }
  ]
}