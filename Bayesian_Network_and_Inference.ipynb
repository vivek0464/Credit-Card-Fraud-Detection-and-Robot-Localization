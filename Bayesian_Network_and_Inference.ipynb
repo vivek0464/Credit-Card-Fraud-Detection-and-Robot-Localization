{
  "nbformat": 4,
  "nbformat_minor": 0,
  "metadata": {
    "colab": {
      "name": "Bayesian Network and Inference.ipynb",
      "provenance": [],
      "collapsed_sections": [],
      "authorship_tag": "ABX9TyPvCBPnU4VI4DO9tmezqMbu",
      "include_colab_link": true
    },
    "kernelspec": {
      "name": "python3",
      "display_name": "Python 3"
    }
  },
  "cells": [
    {
      "cell_type": "markdown",
      "metadata": {
        "id": "view-in-github",
        "colab_type": "text"
      },
      "source": [
        "<a href=\"https://colab.research.google.com/github/vivek0464/Credit-Card-Fraud-Detection-and-Robot-Localization/blob/main/Bayesian_Network_and_Inference.ipynb\" target=\"_parent\"><img src=\"https://colab.research.google.com/assets/colab-badge.svg\" alt=\"Open In Colab\"/></a>"
      ]
    },
    {
      "cell_type": "code",
      "metadata": {
        "id": "kNIpchNZnPeu"
      },
      "source": [
        "!pip install pomegranate"
      ],
      "execution_count": null,
      "outputs": []
    },
    {
      "cell_type": "code",
      "metadata": {
        "id": "dtwzcp7Gmc4w"
      },
      "source": [
        "import math\n",
        "import numpy as np\n",
        "import matplotlib.pyplot as plt\n",
        "import random\n",
        "from pomegranate import *\n",
        "import enum\n",
        "\n",
        "# convention: 0 - Travel, 1 - OwnsDevice, 2 - Fraud, 3 - ForeignPurchase , 4 - OnlinePurchase\n",
        "class RV(enum.Enum): \n",
        "     Travel = 0\n",
        "     OwnsDevice = 1\n",
        "     Fraud = 2\n",
        "     ForeignPurchase = 3\n",
        "     OnlinePurchase = 4\n",
        "\n",
        "Travel = DiscreteDistribution ({'T': 0.05, 'F': 0.95})\n",
        "\n",
        "OwnsDevice = DiscreteDistribution ({'T': 0.7, 'F': 0.3})\n",
        "\n",
        "ForeignPurchase = ConditionalProbabilityTable(\n",
        "    [['T', 'T', 0.88],\n",
        "    ['T', 'F', 0.12],\n",
        "    ['F', 'T', 0.0001],\n",
        "    ['F', 'F', 0.9999]], [Travel])\n",
        "\n",
        "OnlinePurchase = ConditionalProbabilityTable(\n",
        "    [['T', 'T', 0.4],\n",
        "    ['T', 'F', 0.6],\n",
        "    ['F', 'T', 0.05],\n",
        "    ['F', 'F', 0.95]], [OwnsDevice])\n",
        "\n",
        "Fraud =  ConditionalProbabilityTable(\n",
        "    [['T', 'T', 'T', 0.995],\n",
        "    ['T', 'T', 'F', 0.005],\n",
        "    ['T', 'F', 'T', 0.85],\n",
        "    ['T', 'F', 'F', 0.15],\n",
        "    ['F', 'T', 'T', 0.8],\n",
        "    ['F', 'T', 'F', 0.2],\n",
        "    ['F', 'F', 'T', 0.75],\n",
        "    ['F', 'F', 'F', 0.25]], [Travel, OnlinePurchase])\n",
        "\n",
        "\n",
        "s1 = State(Travel, name = \"Travel\")\n",
        "s2 = State(OwnsDevice, name = \"OwnsDevice\")\n",
        "s3 = State(ForeignPurchase, name = \"ForeignPurchase\")\n",
        "s4 = State(OnlinePurchase, name = \"OnlinePurchase\")\n",
        "s5 = State(Fraud, name = \"Fraud\")\n",
        "\n",
        "graph = BayesianNetwork( \"Credit card fraud detection system using Bayesian Networks\" )\n",
        "graph.add_states(s1, s2, s3, s4, s5)\n",
        "graph.add_edge(s1, s3)\n",
        "graph.add_edge(s2, s4)\n",
        "graph.add_edge(s1, s5)\n",
        "graph.add_edge(s4, s5)\n",
        "graph.bake()"
      ],
      "execution_count": null,
      "outputs": []
    },
    {
      "cell_type": "code",
      "metadata": {
        "colab": {
          "base_uri": "https://localhost:8080/"
        },
        "id": "B1oz3bd-oizU",
        "outputId": "5581aef1-4640-42a7-8801-8afb3df5af8c"
      },
      "source": [
        "beliefs = graph.predict_proba({'Travel' : 'T'})\n",
        "beliefs = map(str, beliefs)\n",
        "print(\"\\n\".join( \"{}\\t{}\".format( state.name, belief ) for state, belief in zip(graph.states, beliefs)))"
      ],
      "execution_count": null,
      "outputs": [
        {
          "output_type": "stream",
          "text": [
            "Travel\tT\n",
            "OwnsDevice\t{\n",
            "    \"class\" : \"Distribution\",\n",
            "    \"dtype\" : \"str\",\n",
            "    \"name\" : \"DiscreteDistribution\",\n",
            "    \"parameters\" : [\n",
            "        {\n",
            "            \"T\" : 0.6999999999999997,\n",
            "            \"F\" : 0.3000000000000001\n",
            "        }\n",
            "    ],\n",
            "    \"frozen\" : false\n",
            "}\n",
            "ForeignPurchase\t{\n",
            "    \"class\" : \"Distribution\",\n",
            "    \"dtype\" : \"str\",\n",
            "    \"name\" : \"DiscreteDistribution\",\n",
            "    \"parameters\" : [\n",
            "        {\n",
            "            \"T\" : 0.8799999999999998,\n",
            "            \"F\" : 0.12000000000000013\n",
            "        }\n",
            "    ],\n",
            "    \"frozen\" : false\n",
            "}\n",
            "OnlinePurchase\t{\n",
            "    \"class\" : \"Distribution\",\n",
            "    \"dtype\" : \"str\",\n",
            "    \"name\" : \"DiscreteDistribution\",\n",
            "    \"parameters\" : [\n",
            "        {\n",
            "            \"T\" : 0.29500000000000015,\n",
            "            \"F\" : 0.7049999999999998\n",
            "        }\n",
            "    ],\n",
            "    \"frozen\" : false\n",
            "}\n",
            "Fraud\t{\n",
            "    \"class\" : \"Distribution\",\n",
            "    \"dtype\" : \"str\",\n",
            "    \"name\" : \"DiscreteDistribution\",\n",
            "    \"parameters\" : [\n",
            "        {\n",
            "            \"T\" : 0.892775,\n",
            "            \"F\" : 0.10722500000000014\n",
            "        }\n",
            "    ],\n",
            "    \"frozen\" : false\n",
            "}\n"
          ],
          "name": "stdout"
        }
      ]
    },
    {
      "cell_type": "code",
      "metadata": {
        "id": "YJ7Mk0e4Oklq"
      },
      "source": [
        "# Approximate inference using Gibbs Sampling\n",
        "\n",
        "# fill using the bayesian network CPT's\n",
        "# convention: (false, true)\n",
        "pd_of_T = np.array((95./100 , 5./100))\n",
        "pd_of_OD = np.array((30./100 , 70./100))\n",
        "pd_of_FP_given_T = np.array(((99.99/100 , 0.01/100) , (12.0/100 , 88.0/100)))\n",
        "pd_of_OP_given_OD = np.array(((95.0/100 , 5./100) , (60.0/100 , 40.0/100)))\n",
        "pd_of_FR_given_T_and_OP = np.array((((25./100 , 75./100) , (20./100 , 80./100)) , ((15.0/100 , 85./100) , (0.5/100 , 99.5/100))))\n",
        "\n",
        "# We need conditional probablities of random variables given values of others, which can be found out using CPT's and Markov Blanket\n",
        "# We use the given formula for calculation of probability distribution of random variables given values of random variables part of it's markov blanket\n",
        "# P(X|others) = P(X|Parents(X)) x Product_Function {for y in Children(X)} (P(Y|Parent(Y)))\n",
        "\n",
        "# Markov Blanket = {FP, FR, OP}, P(T | FP, FR, OP) = alpha * P(T) * P(FP | T) * P(FR | T, OP)\n",
        "def pd_of_T_given_mkb(value_of_FP , value_of_FR,  value_of_OP):\n",
        "  return pd_of_T * ((pd_of_FP_given_T[0][value_of_FP] , pd_of_FP_given_T[1][value_of_FP])) * ((pd_of_FR_given_T_and_OP[0][value_of_OP][value_of_FR] , pd_of_FR_given_T_and_OP[1][value_of_OP][value_of_FR])) \n",
        "\n",
        "# Markov Blanket = {OP}, P(OD | OP) = alpha * P(OD) * P(OP | OD)\n",
        "def pd_of_OD_given_mkb(value_of_OP) :\n",
        "  return pd_of_OD * (pd_of_OP_given_OD[0][value_of_OP] , pd_of_OP_given_OD[1][value_of_OP])\n",
        "\n",
        "# Markov Blanket = {T}, P(FP | T) = pd_of_FP_given_T\n",
        "def pd_of_FP_given_mkb(value_of_T) :\n",
        "  return pd_of_FP_given_T[value_of_T]\n",
        "\n",
        "# Markov Blanket = {FR, T, OD}, P(OP | FR, T, OD) = alpha * P(OP | OD) * P(FR | T, OP)\n",
        "def pd_of_OP_given_mkb(value_of_FR , value_of_T , value_of_OD) :\n",
        "  return pd_of_OP_given_OD[value_of_OD] * ((pd_of_FR_given_T_and_OP[value_of_T][0][value_of_OD] , pd_of_FR_given_T_and_OP[value_of_T][1][value_of_OD]))\n",
        "\n",
        "# Markov Blanket = {T, OP}, P(FR | T, OP) = pd_of_FR_given_T_and_OP\n",
        "def pd_of_FR_given_mkb(value_of_T , value_of_OP) :\n",
        "  return pd_of_FR_given_T_and_OP[value_of_T][value_of_OP]\n"
      ],
      "execution_count": null,
      "outputs": []
    },
    {
      "cell_type": "code",
      "metadata": {
        "id": "Tu_zLoanzh8u"
      },
      "source": [
        "# Sample using a given probability distribution\n",
        "def sample_using_pd(prob_false , prob_true):\n",
        "  sum = prob_true + prob_false\n",
        "  prob_true = prob_true / sum\n",
        "  prob_false = prob_false / sum\n",
        "  random_value = np.random.uniform(0.0 , 1.0)\n",
        "  if random_value <= prob_true:\n",
        "    return 1\n",
        "  else:\n",
        "    return 0\n",
        "\n",
        "# From the probability distribution of ith random variable, given value of others -> sample it's value\n",
        "def sample_rv (i , X) :\n",
        "  (prev_value_of_T , prev_value_of_OD, prev_value_of_FR, prev_value_of_FP, prev_value_of_OP) = (X[0], X[1], X[2], X[3], X[4])\n",
        "  if i == RV.Travel.value:\n",
        "    pd_of_ith_given_others = pd_of_T_given_mkb(prev_value_of_FP , prev_value_of_FR , prev_value_of_OP)\n",
        "  elif i == RV.OwnsDevice.value:\n",
        "    pd_of_ith_given_others = pd_of_OD_given_mkb(prev_value_of_OP)\n",
        "  elif i == RV.Fraud.value:\n",
        "    pd_of_ith_given_others = pd_of_FR_given_mkb(prev_value_of_T , prev_value_of_OP)\n",
        "  elif i == RV.ForeignPurchase.value:\n",
        "    pd_of_ith_given_others = pd_of_FP_given_mkb(prev_value_of_T)\n",
        "  else:\n",
        "    assert(i == RV.OnlinePurchase.value)\n",
        "    pd_of_ith_given_others = pd_of_OP_given_mkb(prev_value_of_FR, prev_value_of_T , prev_value_of_OD)\n",
        "  val = sample_using_pd(pd_of_ith_given_others[0] , pd_of_ith_given_others[1])\n",
        "\n",
        "  return sample_using_pd(pd_of_ith_given_others[0] , pd_of_ith_given_others[1])\n",
        "\n",
        "def gibbs_sampling(iterations = 10000, evidence_set = {}) :\n",
        "  # separate out evidence variables, whose value remains fixed throughout sampling\n",
        "  evidence_vars = [evidence for evidence in evidence_set]\n",
        "  RVs = []\n",
        "  for variable in range(5):\n",
        "    if variable not in evidence_vars:\n",
        "      RVs.append(variable)\n",
        "  samples =  []\n",
        "\n",
        "  # intialize the values of random variables\n",
        "  X = [0 , 1 , 0 , 1 , 1]\n",
        "\n",
        "  # correct the initial value of given evidence variables\n",
        "  for i in range(5) :\n",
        "    if i in evidence_vars:\n",
        "      X[i] = evidence_set[i]\n",
        "  \n",
        "  samples.append([X[rv] for rv in range(5)])\n",
        "  for iter in range(iterations):\n",
        "    # choose a random variable to sample\n",
        "    i = random.choice(RVs)\n",
        "    # sample it's value\n",
        "    val = sample_rv (i , X) \n",
        "    X[i] = val\n",
        "    samples.append([X[rv] for rv in range(5)])\n",
        "  return samples\n",
        "\n",
        "\n",
        "def inference(evidence_set={}):\n",
        "    max_iterations = 2000000\n",
        "    # convention: 0 - Travel, 1 - OwnsDevice, 2 - Fraud, 3 - ForeignPurchase , 4 - OnlinePurchase\n",
        "    samples = gibbs_sampling(iterations=max_iterations, evidence_set=evidence_set)\n",
        "    T_true_cnt = 0\n",
        "    OD_true_cnt = 0\n",
        "    FP_true_cnt = 0\n",
        "    OP_true_cnt = 0\n",
        "    FR_true_cnt = 0\n",
        "    iter = 0\n",
        "    for sample in samples:\n",
        "      iter = iter + 1\n",
        "      T_true_cnt += sample[0]\n",
        "      OD_true_cnt += sample[1]\n",
        "      FR_true_cnt += sample[2]\n",
        "      FP_true_cnt += sample[3]\n",
        "      OP_true_cnt += sample[4]\n",
        "    evidence_set = {RV(k).name: bool(v) for k, v in evidence_set.items()}\n",
        "    print(\"Given evidence set: \" + str(evidence_set))\n",
        "    print(\"Travel: True = \" + str(T_true_cnt * 1.00 / len(samples)) + \", False = \" + str(1 - (T_true_cnt * 1.00 / len(samples))))\n",
        "    print(\"OwnsDevice: True = \" + str(OD_true_cnt * 1.00 / len(samples)) + \", False = \" + str(1 - (OD_true_cnt * 1.00 / len(samples))))\n",
        "    print(\"Fraud: True = \" + str(FR_true_cnt * 1.00 / len(samples)) + \", False = \" + str(1 - (FR_true_cnt * 1.00 / len(samples))))\n",
        "    print(\"ForeignPurchase: True = \" + str(FP_true_cnt * 1.00 / len(samples)) + \", False = \" + str(1 - (FP_true_cnt * 1.00 / len(samples))))\n",
        "    print(\"OnlinePurchase: True = \" + str(OP_true_cnt * 1.00 / len(samples)) + \", False = \" + str(1 - (OP_true_cnt * 1.00 / len(samples))))"
      ],
      "execution_count": null,
      "outputs": []
    },
    {
      "cell_type": "code",
      "metadata": {
        "colab": {
          "base_uri": "https://localhost:8080/"
        },
        "id": "olx0n8qC8Ut2",
        "outputId": "edeff4e3-def0-436d-b90c-117315946ee7"
      },
      "source": [
        "# for query 1, when there is no evidence\n",
        "inference()"
      ],
      "execution_count": null,
      "outputs": [
        {
          "output_type": "stream",
          "text": [
            "Given evidence set: {}\n",
            "Travel: True = 0.05063297468351266, False = 0.9493670253164873\n",
            "OwnsDevice: True = 0.7028461485769257, False = 0.29715385142307427\n",
            "Fraud: True = 0.7725806137096931, False = 0.2274193862903069\n",
            "ForeignPurchase: True = 0.04471047764476118, False = 0.9552895223552388\n",
            "OnlinePurchase: True = 0.3047273476363262, False = 0.6952726523636739\n"
          ],
          "name": "stdout"
        }
      ]
    },
    {
      "cell_type": "code",
      "metadata": {
        "colab": {
          "base_uri": "https://localhost:8080/"
        },
        "id": "6ZciDnXH8ZkX",
        "outputId": "513bf048-06c3-4dc1-9a19-d33c33f1177d"
      },
      "source": [
        "# for query 2, when OwnsDevice = true is given\n",
        "inference(evidence_set={RV.OwnsDevice.value:1})"
      ],
      "execution_count": null,
      "outputs": [
        {
          "output_type": "stream",
          "text": [
            "Given evidence set: {'OwnsDevice': True}\n",
            "Travel: True = 0.04892997553501223, False = 0.9510700244649878\n",
            "OwnsDevice: True = 1.0, False = 0.0\n",
            "Fraud: True = 0.7770676114661943, False = 0.2229323885338057\n",
            "ForeignPurchase: True = 0.04315897842051079, False = 0.9568410215794892\n",
            "OnlinePurchase: True = 0.41714679142660427, False = 0.5828532085733957\n"
          ],
          "name": "stdout"
        }
      ]
    },
    {
      "cell_type": "code",
      "metadata": {
        "colab": {
          "base_uri": "https://localhost:8080/"
        },
        "id": "_luKn1r38frX",
        "outputId": "5bc69713-dca6-463f-d7a6-1b2a7a967e23"
      },
      "source": [
        "# for query 3, when  Travel = true  and OwnsDevice = true is given\n",
        "inference(evidence_set={RV.Travel.value:1, RV.OwnsDevice.value:1})"
      ],
      "execution_count": null,
      "outputs": [
        {
          "output_type": "stream",
          "text": [
            "Given evidence set: {'Travel': True, 'OwnsDevice': True}\n",
            "Travel: True = 1.0, False = 0.0\n",
            "OwnsDevice: True = 1.0, False = 0.0\n",
            "Fraud: True = 0.9134255432872284, False = 0.08657445671277164\n",
            "ForeignPurchase: True = 0.8802490598754701, False = 0.11975094012452991\n",
            "OnlinePurchase: True = 0.4374237812881094, False = 0.5625762187118906\n"
          ],
          "name": "stdout"
        }
      ]
    }
  ]
}